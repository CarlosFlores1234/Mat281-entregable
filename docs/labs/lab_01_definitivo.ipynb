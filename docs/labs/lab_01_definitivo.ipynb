{
  "cells": [
    {
      "cell_type": "markdown",
      "id": "e2696553",
      "metadata": {
        "id": "e2696553"
      },
      "source": [
        "<a href=\"https://colab.research.google.com/github/fralfaro/MAT281/blob/main/docs/labs/lab_01.ipynb\" target=\"_parent\"><img src=\"https://colab.research.google.com/assets/colab-badge.svg\" alt=\"Open In Colab\"/></a>\n",
        "\n",
        "\n",
        "# MAT281 - Laboratorio N°01\n",
        "\n",
        "\n",
        "**Objetivos del Laboratorio**\n",
        "\n",
        "* Implementar funciones en Python para resolver problemas matemáticos clásicos.\n",
        "* Aplicar estructuras básicas como ciclos y condicionales en contextos numéricos.\n",
        "* Comprender y programar conceptos como series, factoriales, divisores, primos y secuencias.\n",
        "* Desarrollar pensamiento algorítmico y habilidades de resolución estructurada de problemas.\n"
      ]
    },
    {
      "cell_type": "markdown",
      "id": "a869ace0",
      "metadata": {
        "id": "a869ace0"
      },
      "source": [
        "## Problema 01 — Aproximando $\\pi$ con una serie infinita\n",
        "\n",
        "En los siglos XVII y XVIII, los matemáticos **James Gregory** y **Gottfried Leibniz** descubrieron una serie infinita que permite aproximar el valor de $\\pi$. Esta serie, conocida como la *serie de Gregory-Leibniz*, se expresa como:\n",
        "\n",
        "$$\n",
        "\\pi = 4 \\sum_{k=1}^{\\infty} \\frac{(-1)^{k+1}}{2k - 1} = 4\\left(1 - \\frac{1}{3} + \\frac{1}{5} - \\frac{1}{7} + \\cdots\\right)\n",
        "$$\n",
        "\n",
        "Esta fórmula converge lentamente, pero es útil para entender cómo se puede aproximar un número irracional como $\\pi$ mediante una suma finita.\n",
        "\n",
        "**Tu tarea**\n",
        "\n",
        "Implementa una **función llamada `calcular_pi(n)`** que reciba como argumento un número entero $n$ e **importe los primeros $n$ términos de la serie** para entregar una aproximación del valor de $\\pi$.\n",
        "\n",
        "\n",
        "\n",
        "\n",
        "\n",
        "**Ejemplos de uso**\n",
        "\n",
        "```python\n",
        "calcular_pi(3)     # Resultado esperado: 3.466666...\n",
        "calcular_pi(1000)  # Resultado esperado: ~3.140592...\n",
        "```\n",
        "\n"
      ]
    },
    {
      "cell_type": "code",
      "execution_count": 8,
      "id": "dd54e855",
      "metadata": {
        "id": "dd54e855"
      },
      "outputs": [],
      "source": [
        "\"primero hay que definir una funcion que reciba como argumento un numero entero n\"\n",
        "def calcular_pi(n):\n",
        "  \"definimos la variable sumatoria inicializada en 0 para calcular la sumatoria\"\n",
        "  suma = 0\n",
        "  for k in range(1,n+1):\n",
        "    \"definimos el numerador y denominador de la sumatoria\"\n",
        "    numerador= (-1)**(k+1)\n",
        "    denominador= 2*k - 1\n",
        "    suma += numerador/denominador\n",
        "  return 4*suma"
      ]
    },
    {
      "cell_type": "code",
      "source": [
        "calcular_pi(1000)"
      ],
      "metadata": {
        "colab": {
          "base_uri": "https://localhost:8080/"
        },
        "id": "gWwj0lPcCDDZ",
        "outputId": "74230d37-d802-44f7-b66c-d1b3b486a368"
      },
      "id": "gWwj0lPcCDDZ",
      "execution_count": 75,
      "outputs": [
        {
          "output_type": "execute_result",
          "data": {
            "text/plain": [
              "3.140592653839794"
            ]
          },
          "metadata": {},
          "execution_count": 75
        }
      ]
    },
    {
      "cell_type": "markdown",
      "id": "c26be634",
      "metadata": {
        "id": "c26be634"
      },
      "source": [
        "\n",
        "## Problema 02 — Aproximando $e$ con la serie de Euler\n",
        "\n",
        "El número **$e$** es una constante matemática fundamental, al igual que $\\pi$. Se encuentra en el corazón del cálculo, el crecimiento exponencial y muchas aplicaciones científicas. Uno de sus grandes impulsores fue **Leonhard Euler**, quien en 1748 publicó su obra *Introductio in analysin infinitorum*, donde describió formalmente la siguiente serie infinita para aproximar su valor:\n",
        "\n",
        "$$\n",
        "e = \\sum_{k=0}^{\\infty} \\frac{1}{k!} = 1 + \\frac{1}{1!} + \\frac{1}{2!} + \\frac{1}{3!} + \\cdots\n",
        "$$\n",
        "\n",
        "Esta fórmula permite calcular $e$ sumando una cantidad finita de términos.\n",
        "\n",
        "\n",
        "\n",
        "**Tu tarea**\n",
        "\n",
        "1. **Parte A**: Define una función llamada `factorial(n)` que reciba un número natural $n$ y retorne el valor de su factorial $n! = 1 \\cdot 2 \\cdot \\ldots \\cdot n$.\n",
        "\n",
        "2. **Parte B**: Usando esa función, crea otra función llamada `calcular_e(n)` que reciba un número entero $n$ y devuelva una aproximación del número $e$ sumando los primeros $n$ términos de la serie.\n",
        "\n",
        "\n",
        "\n",
        "**Ejemplos de uso**\n",
        "\n",
        "```python\n",
        "factorial(3)     # Resultado esperado: 6\n",
        "factorial(5)     # Resultado esperado: 120\n",
        "\n",
        "calcular_e(3)     # Resultado esperado: 2.666...\n",
        "calcular_e(1000)  # Resultado esperado: ~2.718281828...\n",
        "```\n",
        "\n"
      ]
    },
    {
      "cell_type": "code",
      "execution_count": 18,
      "id": "706d4c0a",
      "metadata": {
        "id": "706d4c0a"
      },
      "outputs": [],
      "source": [
        "\"primero definimos la funcion para falcular el factorial de un numero natural n\"\n",
        "def factorial(n):\n",
        "  fact=1\n",
        "  for k in range(1,n+1):\n",
        "    fact*=k\n",
        "  return fact\n",
        "\"ahora la funcion para calcular e\"\n",
        "def calcular_e(n):\n",
        "  \"inicializamos la variable suma que representa la sumatoria\"\n",
        "  suma=0\n",
        "  for k in range(0,n+1):\n",
        "    suma+=1/factorial(k)\n",
        "  return suma"
      ]
    },
    {
      "cell_type": "code",
      "source": [
        "calcular_e(1000)"
      ],
      "metadata": {
        "colab": {
          "base_uri": "https://localhost:8080/"
        },
        "id": "wLpBtSgTD4LM",
        "outputId": "c193359f-1c5c-4f53-b356-ecd57c7e2600"
      },
      "id": "wLpBtSgTD4LM",
      "execution_count": 64,
      "outputs": [
        {
          "output_type": "execute_result",
          "data": {
            "text/plain": [
              "2.7182818284590455"
            ]
          },
          "metadata": {},
          "execution_count": 64
        }
      ]
    },
    {
      "cell_type": "markdown",
      "id": "9707be93",
      "metadata": {
        "id": "9707be93"
      },
      "source": [
        "## Problema 03 — Números amigos y suma de divisores propios\n",
        "\n",
        "Dado un número natural $n$, se define $\\sigma(n)$ como la **suma de sus divisores propios**, es decir, aquellos números positivos menores que $n$ que lo dividen exactamente.\n",
        "\n",
        "Dos números naturales $n_1$ y $n_2$ se consideran **números amigos** si cumplen la siguiente condición:\n",
        "\n",
        "$$\n",
        "\\sigma(n_1) = n_2 \\quad \\text{y} \\quad \\sigma(n_2) = n_1\n",
        "$$\n",
        "\n",
        "Un ejemplo clásico de números amigos es el par $220$ y $284$:\n",
        "\n",
        "* Los divisores propios de $220$ son: $1, 2, 4, 5, 10, 11, 20, 22, 44, 55, 110$, y su suma es $284$.\n",
        "* Los divisores propios de $284$ son: $1, 2, 4, 71, 142$, y su suma es $220$.\n",
        "\n",
        "**Tu tarea**\n",
        "\n",
        "1. **Parte A**: Define una función llamada `divisores_propios(n)` que reciba un número natural $n$ y retorne una **lista** con todos sus divisores propios.\n",
        "\n",
        "2. **Parte B**: Usando esa función, implementa una función llamada `amigos(n1, n2)` que retorne `True` si los números son amigos y `False` en caso contrario.\n",
        "\n",
        "**Ejemplos de uso**\n",
        "\n",
        "```python\n",
        "divisores_propios(220)  # Resultado esperado: [1, 2, 4, 5, 10, 11, 20, 22, 44, 55, 110]\n",
        "divisores_propios(284)  # Resultado esperado: [1, 2, 4, 71, 142]\n",
        "\n",
        "amigos(220, 284)        # Resultado esperado: True\n",
        "amigos(6, 5)            # Resultado esperado: False\n",
        "```\n"
      ]
    },
    {
      "cell_type": "code",
      "execution_count": 24,
      "id": "e695ea21",
      "metadata": {
        "id": "e695ea21"
      },
      "outputs": [],
      "source": [
        "\"primero se define la funcion para calcular los divisores propios de un numero natural n\"\n",
        "def divisores_propios(n):\n",
        "  \"primero creo una lista vacia donde van a ir los divisores\"\n",
        "  divisores=[]\n",
        "  for k in range(1,n):\n",
        "    if n%k==0:\n",
        "      \"si se cumple la condicion agrego a la lista el numero k\"\n",
        "      divisores.append(k)\n",
        "  return divisores\n",
        "\"ahora hay que definir una funcion amigos la cual determine si dos numeros naturales n1 y n2 son amigos\"\n",
        "def amigos(n1,n2):\n",
        "  \"en este caso primero vamos a calcular los divisores propios tanto de n1 como de n2 dado que el hecho de que sean numeros amigos entre si depende de la suma de sus divisores\"\n",
        "  divn1=divisores_propios(n1)\n",
        "  divn2=divisores_propios(n2)\n",
        "  \"ahora hay que verificar si la suma de los divisores de n1 es n2 y analogamente si la suma de los divisores de n2 es n1, si se cumple son amigos y se retorna true\"\n",
        "  if sum(divn1)==n2 and sum(divn2)==n1:\n",
        "    return True\n",
        "  else:\n",
        "    return False"
      ]
    },
    {
      "cell_type": "code",
      "source": [
        "amigos(220,284)"
      ],
      "metadata": {
        "colab": {
          "base_uri": "https://localhost:8080/"
        },
        "id": "fOAwtsczF-Dm",
        "outputId": "cd80c103-67a9-495d-ac3b-3effe257438c"
      },
      "id": "fOAwtsczF-Dm",
      "execution_count": 74,
      "outputs": [
        {
          "output_type": "execute_result",
          "data": {
            "text/plain": [
              "True"
            ]
          },
          "metadata": {},
          "execution_count": 74
        }
      ]
    },
    {
      "cell_type": "markdown",
      "id": "cf93a039",
      "metadata": {
        "id": "cf93a039"
      },
      "source": [
        "## Problema 04 — La conjetura de Collatz\n",
        "\n",
        "La [conjetura de Collatz](https://en.wikipedia.org/wiki/Collatz_conjecture), también conocida como **conjetura $3n + 1$** o conjetura de Ulam, fue formulada por el matemático **Lothar Collatz** en 1937. A pesar de su sencillez, aún no ha sido demostrada ni refutada para todos los números naturales.\n",
        "\n",
        "La conjetura propone la siguiente regla, aplicable a cualquier número entero positivo:\n",
        "\n",
        "* Si el número es **par**, se divide por 2.\n",
        "* Si el número es **impar**, se multiplica por 3 y se le suma 1.\n",
        "\n",
        "Se repite esta operación con cada nuevo número obtenido. La conjetura afirma que, sin importar el número con el que se comience, **eventualmente se alcanzará el número 1**.\n",
        "\n",
        "**Tu tarea**\n",
        "\n",
        "Implementa una función llamada `collatz(n)` que reciba como argumento un número natural positivo $n$ y retorne una **lista con la secuencia de valores** generados por la conjetura, hasta llegar a 1.\n",
        "\n",
        "**Ejemplo de uso**\n",
        "\n",
        "```python\n",
        "collatz(9)  \n",
        "# Resultado esperado:\n",
        "# [9, 28, 14, 7, 22, 11, 34, 17, 52, 26, 13, 40, 20, 10, 5, 16, 8, 4, 2, 1]\n",
        "```\n",
        "\n"
      ]
    },
    {
      "cell_type": "code",
      "execution_count": 45,
      "id": "10501a00",
      "metadata": {
        "id": "10501a00"
      },
      "outputs": [],
      "source": [
        "\"primero definamos la funcipn collatz que recibe como argumento un numero natural n\"\n",
        "def collatz(n):\n",
        "  \"creamos una lista vacia para despues agregarle la secuecia de valores generados por la conjetura\"\n",
        "  lista=[]\n",
        "  while n!=1:\n",
        "    lista.append(n)\n",
        "    if n%2==0:\n",
        "      \"si se verifica que el numero n es par, por la conjetura dicho numero se tiene que dividir por 2\"\n",
        "      n=n//2\n",
        "    else:\n",
        "      \"en caso de que el numero n es impar, dicho numero se multiplica por 3 y se le suma 1 segun la conjetura\"\n",
        "      n = 3*n + 1\n",
        "  \"finalmente se agrega el numero n a la lista\"\n",
        "  lista.append(n)\n",
        "  return lista"
      ]
    },
    {
      "cell_type": "code",
      "source": [
        "collatz(9)"
      ],
      "metadata": {
        "colab": {
          "base_uri": "https://localhost:8080/"
        },
        "id": "ECGKzEoDJO3z",
        "outputId": "b2e8b1cf-f47c-448d-d10a-e16261774749"
      },
      "id": "ECGKzEoDJO3z",
      "execution_count": 49,
      "outputs": [
        {
          "output_type": "execute_result",
          "data": {
            "text/plain": [
              "[9, 28, 14, 7, 22, 11, 34, 17, 52, 26, 13, 40, 20, 10, 5, 16, 8, 4, 2, 1]"
            ]
          },
          "metadata": {},
          "execution_count": 49
        }
      ]
    },
    {
      "cell_type": "markdown",
      "id": "d15af4eb",
      "metadata": {
        "id": "d15af4eb"
      },
      "source": [
        "## Problema 05 — La conjetura de Goldbach\n",
        "\n",
        "La [conjetura de Goldbach](https://en.wikipedia.org/wiki/Goldbach%27s_conjecture) es uno de los problemas abiertos más antiguos y famosos de la teoría de números. Fue formulada por el matemático prusiano **Christian Goldbach** en una carta a Euler en 1742, y plantea lo siguiente:\n",
        "\n",
        "> **Todo número par mayor que 2 puede escribirse como la suma de dos números primos.**\n",
        "\n",
        "A pesar de que esta conjetura ha sido verificada para una gran cantidad de números, aún no existe una demostración formal que la confirme para todos los casos posibles.\n",
        "\n",
        "**Tu tarea**\n",
        "\n",
        "Implementa una función llamada `goldbach(n)` que reciba un número natural par mayor que 2 y retorne un par de números primos $n_1$ y $n_2$ tales que $n_1 + n_2 = n$.\n",
        "\n",
        "Para lograrlo, se recomienda dividir el problema en tres partes:\n",
        "\n",
        "1. **Parte A**: Define una función `es_primo(n)` que reciba un número natural $n$ y retorne `True` si es primo, y `False` en caso contrario.\n",
        "\n",
        "2. **Parte B**: Define una función `lista_de_primos(n)` que genere una lista con todos los números primos entre 2 y $n$ (inclusive si corresponde).\n",
        "\n",
        "3. **Parte C**: Utiliza la función anterior dentro de `goldbach(n)` para encontrar dos primos cuya suma sea igual a $n$. Puedes retornar el primer par que cumpla esta condición.\n",
        "\n",
        "**Ejemplos de uso**\n",
        "\n",
        "```python\n",
        "es_primo(3)         # Resultado esperado: True\n",
        "es_primo(4)         # Resultado esperado: False\n",
        "\n",
        "lista_de_primos(4)  # Resultado esperado: [2, 3]\n",
        "lista_de_primos(6)  # Resultado esperado: [2, 3, 5]\n",
        "lista_de_primos(8)  # Resultado esperado: [2, 3, 5, 7]\n",
        "\n",
        "goldbach(4)         # Resultado esperado: (2, 2)\n",
        "goldbach(6)         # Resultado esperado: (3, 3)\n",
        "goldbach(8)         # Resultado esperado: (3, 5)\n",
        "```\n",
        "\n",
        "\n"
      ]
    },
    {
      "cell_type": "code",
      "execution_count": 55,
      "id": "cccb4ae0",
      "metadata": {
        "id": "cccb4ae0"
      },
      "outputs": [],
      "source": [
        "\"primero definimos la funcion es_primo que recibe como argumento un numero natural n y retorne True si es primO Y False si no lo es\"\n",
        "def es_primo(n):\n",
        "  if n==1:\n",
        "    return False\n",
        "  for k in range(2,n):\n",
        "    if n%k==0:\n",
        "      return False\n",
        "  return True\n",
        "\n",
        "\"ahora creamos una funcion que recibe como argumento un numero natural n de manera que genere una lista de todos los numeros primos entre 2 y n\"\n",
        "def lista_de_primos(n):\n",
        "  \"lo primero es crear una lista vacia\"\n",
        "  lista=[]\n",
        "  for k in range(2,n+1):\n",
        "    if es_primo(k):\n",
        "      lista.append(k)\n",
        "  return lista\n",
        "\n",
        "\"finalmente creamos la funcion goldbach que recibe como argumento un numero natural n mayor que 2 y retorna dos numeros primos n1 y n2 de forma que n=n1+n2\"\n",
        "def goldbach(n):\n",
        "  \"definimos en primer lugar una lista con todos los primos que hay entre 2 y el argumento recibido n\"\n",
        "  lista_nprimos= lista_de_primos(n)\n",
        "  \"comenzamos nuestro ciclo for donde len nos permite obtener cuanto numeros primos hay en nuestra lista_de_primos\"\n",
        "  for k in range(0,len(lista_nprimos)):\n",
        "    for j in range(0,len(lista_nprimos)):\n",
        "      \"ahora verificamos que numeros cumplen que la suma precisamente nos da el numero n, donde finalmente retornamos dichos numeros primos que cumplen con la condicion\"\n",
        "      if lista_nprimos[k] + lista_nprimos[j] == n:\n",
        "                return lista_nprimos[k], lista_nprimos[j]\n",
        "\n"
      ]
    },
    {
      "cell_type": "code",
      "source": [
        "goldbach(8)"
      ],
      "metadata": {
        "colab": {
          "base_uri": "https://localhost:8080/"
        },
        "id": "q_dRnXr_NZFT",
        "outputId": "ba7b005f-53cc-4564-e365-20b556643f3c"
      },
      "id": "q_dRnXr_NZFT",
      "execution_count": 73,
      "outputs": [
        {
          "output_type": "execute_result",
          "data": {
            "text/plain": [
              "(3, 5)"
            ]
          },
          "metadata": {},
          "execution_count": 73
        }
      ]
    }
  ],
  "metadata": {
    "kernelspec": {
      "display_name": "Python 3 (ipykernel)",
      "language": "python",
      "name": "python3"
    },
    "language_info": {
      "codemirror_mode": {
        "name": "ipython",
        "version": 3
      },
      "file_extension": ".py",
      "mimetype": "text/x-python",
      "name": "python",
      "nbconvert_exporter": "python",
      "pygments_lexer": "ipython3",
      "version": "3.10.11"
    },
    "colab": {
      "provenance": []
    }
  },
  "nbformat": 4,
  "nbformat_minor": 5
}